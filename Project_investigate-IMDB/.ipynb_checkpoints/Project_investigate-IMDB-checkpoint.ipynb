{
 "cells": [
  {
   "cell_type": "markdown",
   "metadata": {},
   "source": [
    "# Project: Investigate the IMDB Dataset \n",
    "\n",
    "## Table of Contents\n",
    "<ul>\n",
    "<li><a href=\"#intro\">Introduction</a></li>\n",
    "<li><a href=\"#wrangling\">Data Wrangling</a></li>\n",
    "<li><a href=\"#eda\">Exploratory Data Analysis</a></li>\n",
    "<li><a href=\"#conclusions\">Conclusions</a></li>\n",
    "</ul>\n"
   ]
  },
  {
   "cell_type": "markdown",
   "metadata": {},
   "source": [
    "<a id='intro'></a>\n",
    "## Introduction"
   ]
  },
  {
   "cell_type": "markdown",
   "metadata": {},
   "source": [
    "> **Objective**: Movie market is huge, along with more films were released over year, I would like to see which genres is the most common and also I would like to see if there are some factors could influence the profit. If I could have some insights those factors, then it might help them to make decision.\n",
    "\n",
    "## Questions:\n",
    "<ul>\n",
    "<li><a href=\"#eda\">Which genres are most popular from year to year?</a></li>\n",
    "<li><a href=\"#eda\">What kind of factors are correlated with movie profit(Means Return of investment)?</a></li>\n",
    "</ul>\n",
    "\n"
   ]
  },
  {
   "cell_type": "code",
   "execution_count": 2,
   "metadata": {},
   "outputs": [
    {
     "name": "stderr",
     "output_type": "stream",
     "text": [
      "/anaconda3/lib/python3.6/site-packages/statsmodels/compat/pandas.py:56: FutureWarning: The pandas.core.datetools module is deprecated and will be removed in a future version. Please use the pandas.tseries module instead.\n",
      "  from pandas.core import datetools\n"
     ]
    }
   ],
   "source": [
    "import pandas as pd\n",
    "import numpy as np\n",
    "import matplotlib.pyplot as plt\n",
    "% matplotlib inline\n",
    "import seaborn as sns\n",
    "import statsmodels.api as sm\n",
    "from scipy import stats"
   ]
  },
  {
   "cell_type": "markdown",
   "metadata": {},
   "source": [
    "<a id='wrangling'></a>\n",
    "## Data Wrangling\n",
    "\n",
    "> **Tip**: In this section of the report, you will load in the data, check for cleanliness, and then trim and clean your dataset for analysis. Make sure that you document your steps carefully and justify your cleaning decisions.\n",
    "\n",
    "### General Properties"
   ]
  },
  {
   "cell_type": "code",
   "execution_count": 3,
   "metadata": {},
   "outputs": [],
   "source": [
    "# Load the database\n",
    "df = pd.read_csv('tmdb-movies.csv')"
   ]
  },
  {
   "cell_type": "code",
   "execution_count": 4,
   "metadata": {
    "scrolled": false
   },
   "outputs": [
    {
     "data": {
      "text/plain": [
       "id                        int64\n",
       "imdb_id                  object\n",
       "popularity              float64\n",
       "budget                    int64\n",
       "revenue                   int64\n",
       "original_title           object\n",
       "cast                     object\n",
       "homepage                 object\n",
       "director                 object\n",
       "tagline                  object\n",
       "keywords                 object\n",
       "overview                 object\n",
       "runtime                   int64\n",
       "genres                   object\n",
       "production_companies     object\n",
       "release_date             object\n",
       "vote_count                int64\n",
       "vote_average            float64\n",
       "release_year              int64\n",
       "budget_adj              float64\n",
       "revenue_adj             float64\n",
       "dtype: object"
      ]
     },
     "execution_count": 4,
     "metadata": {},
     "output_type": "execute_result"
    }
   ],
   "source": [
    "# Check the columns and data types\n",
    "df.dtypes"
   ]
  },
  {
   "cell_type": "code",
   "execution_count": 5,
   "metadata": {
    "scrolled": false
   },
   "outputs": [
    {
     "data": {
      "text/html": [
       "<div>\n",
       "<style scoped>\n",
       "    .dataframe tbody tr th:only-of-type {\n",
       "        vertical-align: middle;\n",
       "    }\n",
       "\n",
       "    .dataframe tbody tr th {\n",
       "        vertical-align: top;\n",
       "    }\n",
       "\n",
       "    .dataframe thead th {\n",
       "        text-align: right;\n",
       "    }\n",
       "</style>\n",
       "<table border=\"1\" class=\"dataframe\">\n",
       "  <thead>\n",
       "    <tr style=\"text-align: right;\">\n",
       "      <th></th>\n",
       "      <th>id</th>\n",
       "      <th>popularity</th>\n",
       "      <th>budget</th>\n",
       "      <th>revenue</th>\n",
       "      <th>runtime</th>\n",
       "      <th>vote_count</th>\n",
       "      <th>vote_average</th>\n",
       "      <th>release_year</th>\n",
       "      <th>budget_adj</th>\n",
       "      <th>revenue_adj</th>\n",
       "    </tr>\n",
       "  </thead>\n",
       "  <tbody>\n",
       "    <tr>\n",
       "      <th>count</th>\n",
       "      <td>10866.000000</td>\n",
       "      <td>10866.000000</td>\n",
       "      <td>1.086600e+04</td>\n",
       "      <td>1.086600e+04</td>\n",
       "      <td>10866.000000</td>\n",
       "      <td>10866.000000</td>\n",
       "      <td>10866.000000</td>\n",
       "      <td>10866.000000</td>\n",
       "      <td>1.086600e+04</td>\n",
       "      <td>1.086600e+04</td>\n",
       "    </tr>\n",
       "    <tr>\n",
       "      <th>mean</th>\n",
       "      <td>66064.177434</td>\n",
       "      <td>0.646441</td>\n",
       "      <td>1.462570e+07</td>\n",
       "      <td>3.982332e+07</td>\n",
       "      <td>102.070863</td>\n",
       "      <td>217.389748</td>\n",
       "      <td>5.974922</td>\n",
       "      <td>2001.322658</td>\n",
       "      <td>1.755104e+07</td>\n",
       "      <td>5.136436e+07</td>\n",
       "    </tr>\n",
       "    <tr>\n",
       "      <th>std</th>\n",
       "      <td>92130.136561</td>\n",
       "      <td>1.000185</td>\n",
       "      <td>3.091321e+07</td>\n",
       "      <td>1.170035e+08</td>\n",
       "      <td>31.381405</td>\n",
       "      <td>575.619058</td>\n",
       "      <td>0.935142</td>\n",
       "      <td>12.812941</td>\n",
       "      <td>3.430616e+07</td>\n",
       "      <td>1.446325e+08</td>\n",
       "    </tr>\n",
       "    <tr>\n",
       "      <th>min</th>\n",
       "      <td>5.000000</td>\n",
       "      <td>0.000065</td>\n",
       "      <td>0.000000e+00</td>\n",
       "      <td>0.000000e+00</td>\n",
       "      <td>0.000000</td>\n",
       "      <td>10.000000</td>\n",
       "      <td>1.500000</td>\n",
       "      <td>1960.000000</td>\n",
       "      <td>0.000000e+00</td>\n",
       "      <td>0.000000e+00</td>\n",
       "    </tr>\n",
       "    <tr>\n",
       "      <th>25%</th>\n",
       "      <td>10596.250000</td>\n",
       "      <td>0.207583</td>\n",
       "      <td>0.000000e+00</td>\n",
       "      <td>0.000000e+00</td>\n",
       "      <td>90.000000</td>\n",
       "      <td>17.000000</td>\n",
       "      <td>5.400000</td>\n",
       "      <td>1995.000000</td>\n",
       "      <td>0.000000e+00</td>\n",
       "      <td>0.000000e+00</td>\n",
       "    </tr>\n",
       "    <tr>\n",
       "      <th>50%</th>\n",
       "      <td>20669.000000</td>\n",
       "      <td>0.383856</td>\n",
       "      <td>0.000000e+00</td>\n",
       "      <td>0.000000e+00</td>\n",
       "      <td>99.000000</td>\n",
       "      <td>38.000000</td>\n",
       "      <td>6.000000</td>\n",
       "      <td>2006.000000</td>\n",
       "      <td>0.000000e+00</td>\n",
       "      <td>0.000000e+00</td>\n",
       "    </tr>\n",
       "    <tr>\n",
       "      <th>75%</th>\n",
       "      <td>75610.000000</td>\n",
       "      <td>0.713817</td>\n",
       "      <td>1.500000e+07</td>\n",
       "      <td>2.400000e+07</td>\n",
       "      <td>111.000000</td>\n",
       "      <td>145.750000</td>\n",
       "      <td>6.600000</td>\n",
       "      <td>2011.000000</td>\n",
       "      <td>2.085325e+07</td>\n",
       "      <td>3.369710e+07</td>\n",
       "    </tr>\n",
       "    <tr>\n",
       "      <th>max</th>\n",
       "      <td>417859.000000</td>\n",
       "      <td>32.985763</td>\n",
       "      <td>4.250000e+08</td>\n",
       "      <td>2.781506e+09</td>\n",
       "      <td>900.000000</td>\n",
       "      <td>9767.000000</td>\n",
       "      <td>9.200000</td>\n",
       "      <td>2015.000000</td>\n",
       "      <td>4.250000e+08</td>\n",
       "      <td>2.827124e+09</td>\n",
       "    </tr>\n",
       "  </tbody>\n",
       "</table>\n",
       "</div>"
      ],
      "text/plain": [
       "                  id    popularity        budget       revenue       runtime  \\\n",
       "count   10866.000000  10866.000000  1.086600e+04  1.086600e+04  10866.000000   \n",
       "mean    66064.177434      0.646441  1.462570e+07  3.982332e+07    102.070863   \n",
       "std     92130.136561      1.000185  3.091321e+07  1.170035e+08     31.381405   \n",
       "min         5.000000      0.000065  0.000000e+00  0.000000e+00      0.000000   \n",
       "25%     10596.250000      0.207583  0.000000e+00  0.000000e+00     90.000000   \n",
       "50%     20669.000000      0.383856  0.000000e+00  0.000000e+00     99.000000   \n",
       "75%     75610.000000      0.713817  1.500000e+07  2.400000e+07    111.000000   \n",
       "max    417859.000000     32.985763  4.250000e+08  2.781506e+09    900.000000   \n",
       "\n",
       "         vote_count  vote_average  release_year    budget_adj   revenue_adj  \n",
       "count  10866.000000  10866.000000  10866.000000  1.086600e+04  1.086600e+04  \n",
       "mean     217.389748      5.974922   2001.322658  1.755104e+07  5.136436e+07  \n",
       "std      575.619058      0.935142     12.812941  3.430616e+07  1.446325e+08  \n",
       "min       10.000000      1.500000   1960.000000  0.000000e+00  0.000000e+00  \n",
       "25%       17.000000      5.400000   1995.000000  0.000000e+00  0.000000e+00  \n",
       "50%       38.000000      6.000000   2006.000000  0.000000e+00  0.000000e+00  \n",
       "75%      145.750000      6.600000   2011.000000  2.085325e+07  3.369710e+07  \n",
       "max     9767.000000      9.200000   2015.000000  4.250000e+08  2.827124e+09  "
      ]
     },
     "execution_count": 5,
     "metadata": {},
     "output_type": "execute_result"
    }
   ],
   "source": [
    "# Check the data completeness\n",
    "df.describe()"
   ]
  },
  {
   "cell_type": "code",
   "execution_count": 6,
   "metadata": {
    "scrolled": false
   },
   "outputs": [
    {
     "data": {
      "text/html": [
       "<div>\n",
       "<style scoped>\n",
       "    .dataframe tbody tr th:only-of-type {\n",
       "        vertical-align: middle;\n",
       "    }\n",
       "\n",
       "    .dataframe tbody tr th {\n",
       "        vertical-align: top;\n",
       "    }\n",
       "\n",
       "    .dataframe thead th {\n",
       "        text-align: right;\n",
       "    }\n",
       "</style>\n",
       "<table border=\"1\" class=\"dataframe\">\n",
       "  <thead>\n",
       "    <tr style=\"text-align: right;\">\n",
       "      <th></th>\n",
       "      <th>imdb_id</th>\n",
       "      <th>original_title</th>\n",
       "      <th>cast</th>\n",
       "      <th>homepage</th>\n",
       "      <th>director</th>\n",
       "      <th>tagline</th>\n",
       "      <th>keywords</th>\n",
       "      <th>overview</th>\n",
       "      <th>genres</th>\n",
       "      <th>production_companies</th>\n",
       "      <th>release_date</th>\n",
       "    </tr>\n",
       "  </thead>\n",
       "  <tbody>\n",
       "    <tr>\n",
       "      <th>count</th>\n",
       "      <td>10856</td>\n",
       "      <td>10866</td>\n",
       "      <td>10790</td>\n",
       "      <td>2936</td>\n",
       "      <td>10822</td>\n",
       "      <td>8042</td>\n",
       "      <td>9373</td>\n",
       "      <td>10862</td>\n",
       "      <td>10843</td>\n",
       "      <td>9836</td>\n",
       "      <td>10866</td>\n",
       "    </tr>\n",
       "    <tr>\n",
       "      <th>unique</th>\n",
       "      <td>10855</td>\n",
       "      <td>10571</td>\n",
       "      <td>10719</td>\n",
       "      <td>2896</td>\n",
       "      <td>5067</td>\n",
       "      <td>7997</td>\n",
       "      <td>8804</td>\n",
       "      <td>10847</td>\n",
       "      <td>2039</td>\n",
       "      <td>7445</td>\n",
       "      <td>5909</td>\n",
       "    </tr>\n",
       "    <tr>\n",
       "      <th>top</th>\n",
       "      <td>tt0411951</td>\n",
       "      <td>Hamlet</td>\n",
       "      <td>Louis C.K.</td>\n",
       "      <td>http://www.missionimpossible.com/</td>\n",
       "      <td>Woody Allen</td>\n",
       "      <td>Based on a true story.</td>\n",
       "      <td>woman director</td>\n",
       "      <td>No overview found.</td>\n",
       "      <td>Drama</td>\n",
       "      <td>Paramount Pictures</td>\n",
       "      <td>1/1/09</td>\n",
       "    </tr>\n",
       "    <tr>\n",
       "      <th>freq</th>\n",
       "      <td>2</td>\n",
       "      <td>4</td>\n",
       "      <td>6</td>\n",
       "      <td>4</td>\n",
       "      <td>45</td>\n",
       "      <td>5</td>\n",
       "      <td>134</td>\n",
       "      <td>13</td>\n",
       "      <td>712</td>\n",
       "      <td>156</td>\n",
       "      <td>28</td>\n",
       "    </tr>\n",
       "  </tbody>\n",
       "</table>\n",
       "</div>"
      ],
      "text/plain": [
       "          imdb_id original_title        cast  \\\n",
       "count       10856          10866       10790   \n",
       "unique      10855          10571       10719   \n",
       "top     tt0411951         Hamlet  Louis C.K.   \n",
       "freq            2              4           6   \n",
       "\n",
       "                                 homepage     director  \\\n",
       "count                                2936        10822   \n",
       "unique                               2896         5067   \n",
       "top     http://www.missionimpossible.com/  Woody Allen   \n",
       "freq                                    4           45   \n",
       "\n",
       "                       tagline        keywords            overview genres  \\\n",
       "count                     8042            9373               10862  10843   \n",
       "unique                    7997            8804               10847   2039   \n",
       "top     Based on a true story.  woman director  No overview found.  Drama   \n",
       "freq                         5             134                  13    712   \n",
       "\n",
       "       production_companies release_date  \n",
       "count                  9836        10866  \n",
       "unique                 7445         5909  \n",
       "top      Paramount Pictures       1/1/09  \n",
       "freq                    156           28  "
      ]
     },
     "execution_count": 6,
     "metadata": {},
     "output_type": "execute_result"
    }
   ],
   "source": [
    "df.describe(include=['O'])"
   ]
  },
  {
   "cell_type": "markdown",
   "metadata": {},
   "source": [
    "#### Observation\n",
    "* There is impossible that 'budget' and 'revenue' are 0, so the data should be imcompleted, so I will keep the movies have budge and revenue for the analysis.\n",
    "* Also for the genres, there are 23 records without genres, so will remove those missing data.\n",
    "* For the first question, I will use release_year and genres columns,\n",
    "* For the second quesion, I will use budget, revenue, release_year, release_date, runtime to analyze if the runtime and release year or month are correlate with ROI."
   ]
  },
  {
   "cell_type": "markdown",
   "metadata": {},
   "source": [
    "#### 1. Data Cleaning"
   ]
  },
  {
   "cell_type": "code",
   "execution_count": 8,
   "metadata": {
    "scrolled": true
   },
   "outputs": [],
   "source": [
    "# Drop the columns that I will not use this analysis.\n",
    "df.drop(['original_title', 'cast', 'homepage', 'director', 'tagline', 'keywords', 'overview', 'production_companies', 'budget_adj','revenue_adj'],axis=1,inplace=True)"
   ]
  },
  {
   "cell_type": "code",
   "execution_count": 9,
   "metadata": {},
   "outputs": [],
   "source": [
    "# Clean up the data which is 0, fill them with none value.\n",
    "df.replace(0, np.nan, inplace=True)"
   ]
  },
  {
   "cell_type": "code",
   "execution_count": 10,
   "metadata": {
    "scrolled": true
   },
   "outputs": [],
   "source": [
    "# Drop the data with none values.\n",
    "df.dropna(inplace = True)"
   ]
  },
  {
   "cell_type": "code",
   "execution_count": 11,
   "metadata": {},
   "outputs": [
    {
     "data": {
      "text/html": [
       "<div>\n",
       "<style scoped>\n",
       "    .dataframe tbody tr th:only-of-type {\n",
       "        vertical-align: middle;\n",
       "    }\n",
       "\n",
       "    .dataframe tbody tr th {\n",
       "        vertical-align: top;\n",
       "    }\n",
       "\n",
       "    .dataframe thead th {\n",
       "        text-align: right;\n",
       "    }\n",
       "</style>\n",
       "<table border=\"1\" class=\"dataframe\">\n",
       "  <thead>\n",
       "    <tr style=\"text-align: right;\">\n",
       "      <th></th>\n",
       "      <th>id</th>\n",
       "      <th>popularity</th>\n",
       "      <th>budget</th>\n",
       "      <th>revenue</th>\n",
       "      <th>runtime</th>\n",
       "      <th>vote_count</th>\n",
       "      <th>vote_average</th>\n",
       "      <th>release_year</th>\n",
       "    </tr>\n",
       "  </thead>\n",
       "  <tbody>\n",
       "    <tr>\n",
       "      <th>count</th>\n",
       "      <td>3855.000000</td>\n",
       "      <td>3855.000000</td>\n",
       "      <td>3.855000e+03</td>\n",
       "      <td>3.855000e+03</td>\n",
       "      <td>3855.000000</td>\n",
       "      <td>3855.000000</td>\n",
       "      <td>3855.00000</td>\n",
       "      <td>3855.000000</td>\n",
       "    </tr>\n",
       "    <tr>\n",
       "      <th>mean</th>\n",
       "      <td>39888.783398</td>\n",
       "      <td>1.191400</td>\n",
       "      <td>3.720183e+07</td>\n",
       "      <td>1.076589e+08</td>\n",
       "      <td>109.215824</td>\n",
       "      <td>527.611933</td>\n",
       "      <td>6.16786</td>\n",
       "      <td>2001.263294</td>\n",
       "    </tr>\n",
       "    <tr>\n",
       "      <th>std</th>\n",
       "      <td>67213.815955</td>\n",
       "      <td>1.475002</td>\n",
       "      <td>4.220291e+07</td>\n",
       "      <td>1.765248e+08</td>\n",
       "      <td>19.922166</td>\n",
       "      <td>879.868374</td>\n",
       "      <td>0.79504</td>\n",
       "      <td>11.281989</td>\n",
       "    </tr>\n",
       "    <tr>\n",
       "      <th>min</th>\n",
       "      <td>5.000000</td>\n",
       "      <td>0.001117</td>\n",
       "      <td>1.000000e+00</td>\n",
       "      <td>2.000000e+00</td>\n",
       "      <td>15.000000</td>\n",
       "      <td>10.000000</td>\n",
       "      <td>2.20000</td>\n",
       "      <td>1960.000000</td>\n",
       "    </tr>\n",
       "    <tr>\n",
       "      <th>25%</th>\n",
       "      <td>6074.000000</td>\n",
       "      <td>0.462448</td>\n",
       "      <td>1.000000e+07</td>\n",
       "      <td>1.357645e+07</td>\n",
       "      <td>95.000000</td>\n",
       "      <td>71.000000</td>\n",
       "      <td>5.70000</td>\n",
       "      <td>1995.000000</td>\n",
       "    </tr>\n",
       "    <tr>\n",
       "      <th>50%</th>\n",
       "      <td>11322.000000</td>\n",
       "      <td>0.797298</td>\n",
       "      <td>2.400000e+07</td>\n",
       "      <td>4.479322e+07</td>\n",
       "      <td>106.000000</td>\n",
       "      <td>204.000000</td>\n",
       "      <td>6.20000</td>\n",
       "      <td>2004.000000</td>\n",
       "    </tr>\n",
       "    <tr>\n",
       "      <th>75%</th>\n",
       "      <td>38577.000000</td>\n",
       "      <td>1.368245</td>\n",
       "      <td>5.000000e+07</td>\n",
       "      <td>1.241530e+08</td>\n",
       "      <td>119.000000</td>\n",
       "      <td>580.000000</td>\n",
       "      <td>6.70000</td>\n",
       "      <td>2010.000000</td>\n",
       "    </tr>\n",
       "    <tr>\n",
       "      <th>max</th>\n",
       "      <td>417859.000000</td>\n",
       "      <td>32.985763</td>\n",
       "      <td>4.250000e+08</td>\n",
       "      <td>2.781506e+09</td>\n",
       "      <td>338.000000</td>\n",
       "      <td>9767.000000</td>\n",
       "      <td>8.40000</td>\n",
       "      <td>2015.000000</td>\n",
       "    </tr>\n",
       "  </tbody>\n",
       "</table>\n",
       "</div>"
      ],
      "text/plain": [
       "                  id   popularity        budget       revenue      runtime  \\\n",
       "count    3855.000000  3855.000000  3.855000e+03  3.855000e+03  3855.000000   \n",
       "mean    39888.783398     1.191400  3.720183e+07  1.076589e+08   109.215824   \n",
       "std     67213.815955     1.475002  4.220291e+07  1.765248e+08    19.922166   \n",
       "min         5.000000     0.001117  1.000000e+00  2.000000e+00    15.000000   \n",
       "25%      6074.000000     0.462448  1.000000e+07  1.357645e+07    95.000000   \n",
       "50%     11322.000000     0.797298  2.400000e+07  4.479322e+07   106.000000   \n",
       "75%     38577.000000     1.368245  5.000000e+07  1.241530e+08   119.000000   \n",
       "max    417859.000000    32.985763  4.250000e+08  2.781506e+09   338.000000   \n",
       "\n",
       "        vote_count  vote_average  release_year  \n",
       "count  3855.000000    3855.00000   3855.000000  \n",
       "mean    527.611933       6.16786   2001.263294  \n",
       "std     879.868374       0.79504     11.281989  \n",
       "min      10.000000       2.20000   1960.000000  \n",
       "25%      71.000000       5.70000   1995.000000  \n",
       "50%     204.000000       6.20000   2004.000000  \n",
       "75%     580.000000       6.70000   2010.000000  \n",
       "max    9767.000000       8.40000   2015.000000  "
      ]
     },
     "execution_count": 11,
     "metadata": {},
     "output_type": "execute_result"
    }
   ],
   "source": [
    "# Now we could see, the database dropped from 10866 to 3855, and the data looks more reasonable in terms of \n",
    "#describe infomation.\n",
    "df.describe()"
   ]
  },
  {
   "cell_type": "markdown",
   "metadata": {
    "hideCode": true,
    "hideOutput": true
   },
   "source": [
    "#### 2.Descriptive Analysis"
   ]
  },
  {
   "cell_type": "markdown",
   "metadata": {},
   "source": [
    "When I remove the outliers, only look at with 3std range data, \n",
    "* The release year was from 1960 to 2015;\n",
    "* The median popularity is 0.79\n",
    "* The median budget is 22 million;\n",
    "* The median revenue is 42 million;\n",
    "* The median runtime is 105 min, the distribution looks normal;"
   ]
  },
  {
   "cell_type": "code",
   "execution_count": 12,
   "metadata": {
    "scrolled": false
   },
   "outputs": [
    {
     "data": {
      "text/html": [
       "<div>\n",
       "<style scoped>\n",
       "    .dataframe tbody tr th:only-of-type {\n",
       "        vertical-align: middle;\n",
       "    }\n",
       "\n",
       "    .dataframe tbody tr th {\n",
       "        vertical-align: top;\n",
       "    }\n",
       "\n",
       "    .dataframe thead th {\n",
       "        text-align: right;\n",
       "    }\n",
       "</style>\n",
       "<table border=\"1\" class=\"dataframe\">\n",
       "  <thead>\n",
       "    <tr style=\"text-align: right;\">\n",
       "      <th></th>\n",
       "      <th>id</th>\n",
       "      <th>popularity</th>\n",
       "      <th>budget</th>\n",
       "      <th>revenue</th>\n",
       "      <th>runtime</th>\n",
       "      <th>vote_count</th>\n",
       "      <th>vote_average</th>\n",
       "      <th>release_year</th>\n",
       "    </tr>\n",
       "  </thead>\n",
       "  <tbody>\n",
       "    <tr>\n",
       "      <th>count</th>\n",
       "      <td>3712.000000</td>\n",
       "      <td>3712.000000</td>\n",
       "      <td>3.712000e+03</td>\n",
       "      <td>3.712000e+03</td>\n",
       "      <td>3712.000000</td>\n",
       "      <td>3712.000000</td>\n",
       "      <td>3712.000000</td>\n",
       "      <td>3712.000000</td>\n",
       "    </tr>\n",
       "    <tr>\n",
       "      <th>mean</th>\n",
       "      <td>40032.351024</td>\n",
       "      <td>1.113766</td>\n",
       "      <td>3.323499e+07</td>\n",
       "      <td>9.384312e+07</td>\n",
       "      <td>107.682651</td>\n",
       "      <td>465.028287</td>\n",
       "      <td>6.144343</td>\n",
       "      <td>2001.244073</td>\n",
       "    </tr>\n",
       "    <tr>\n",
       "      <th>std</th>\n",
       "      <td>67790.829803</td>\n",
       "      <td>1.299782</td>\n",
       "      <td>3.323797e+07</td>\n",
       "      <td>1.386522e+08</td>\n",
       "      <td>16.767532</td>\n",
       "      <td>739.006261</td>\n",
       "      <td>0.786949</td>\n",
       "      <td>11.119678</td>\n",
       "    </tr>\n",
       "    <tr>\n",
       "      <th>min</th>\n",
       "      <td>5.000000</td>\n",
       "      <td>0.001117</td>\n",
       "      <td>1.000000e+00</td>\n",
       "      <td>2.000000e+00</td>\n",
       "      <td>62.000000</td>\n",
       "      <td>10.000000</td>\n",
       "      <td>2.200000</td>\n",
       "      <td>1960.000000</td>\n",
       "    </tr>\n",
       "    <tr>\n",
       "      <th>25%</th>\n",
       "      <td>6474.250000</td>\n",
       "      <td>0.455133</td>\n",
       "      <td>1.000000e+07</td>\n",
       "      <td>1.312500e+07</td>\n",
       "      <td>95.000000</td>\n",
       "      <td>68.000000</td>\n",
       "      <td>5.600000</td>\n",
       "      <td>1995.000000</td>\n",
       "    </tr>\n",
       "    <tr>\n",
       "      <th>50%</th>\n",
       "      <td>11307.500000</td>\n",
       "      <td>0.785720</td>\n",
       "      <td>2.200000e+07</td>\n",
       "      <td>4.209941e+07</td>\n",
       "      <td>105.000000</td>\n",
       "      <td>195.000000</td>\n",
       "      <td>6.200000</td>\n",
       "      <td>2004.000000</td>\n",
       "    </tr>\n",
       "    <tr>\n",
       "      <th>75%</th>\n",
       "      <td>38319.500000</td>\n",
       "      <td>1.320533</td>\n",
       "      <td>4.600000e+07</td>\n",
       "      <td>1.166797e+08</td>\n",
       "      <td>118.000000</td>\n",
       "      <td>530.000000</td>\n",
       "      <td>6.700000</td>\n",
       "      <td>2010.000000</td>\n",
       "    </tr>\n",
       "    <tr>\n",
       "      <th>max</th>\n",
       "      <td>417859.000000</td>\n",
       "      <td>32.985763</td>\n",
       "      <td>1.630000e+08</td>\n",
       "      <td>1.513529e+09</td>\n",
       "      <td>168.000000</td>\n",
       "      <td>9767.000000</td>\n",
       "      <td>8.400000</td>\n",
       "      <td>2015.000000</td>\n",
       "    </tr>\n",
       "  </tbody>\n",
       "</table>\n",
       "</div>"
      ],
      "text/plain": [
       "                  id   popularity        budget       revenue      runtime  \\\n",
       "count    3712.000000  3712.000000  3.712000e+03  3.712000e+03  3712.000000   \n",
       "mean    40032.351024     1.113766  3.323499e+07  9.384312e+07   107.682651   \n",
       "std     67790.829803     1.299782  3.323797e+07  1.386522e+08    16.767532   \n",
       "min         5.000000     0.001117  1.000000e+00  2.000000e+00    62.000000   \n",
       "25%      6474.250000     0.455133  1.000000e+07  1.312500e+07    95.000000   \n",
       "50%     11307.500000     0.785720  2.200000e+07  4.209941e+07   105.000000   \n",
       "75%     38319.500000     1.320533  4.600000e+07  1.166797e+08   118.000000   \n",
       "max    417859.000000    32.985763  1.630000e+08  1.513529e+09   168.000000   \n",
       "\n",
       "        vote_count  vote_average  release_year  \n",
       "count  3712.000000   3712.000000   3712.000000  \n",
       "mean    465.028287      6.144343   2001.244073  \n",
       "std     739.006261      0.786949     11.119678  \n",
       "min      10.000000      2.200000   1960.000000  \n",
       "25%      68.000000      5.600000   1995.000000  \n",
       "50%     195.000000      6.200000   2004.000000  \n",
       "75%     530.000000      6.700000   2010.000000  \n",
       "max    9767.000000      8.400000   2015.000000  "
      ]
     },
     "execution_count": 12,
     "metadata": {},
     "output_type": "execute_result"
    }
   ],
   "source": [
    "df[(np.abs(stats.zscore(df[['budget','runtime']])) < 3).all(axis=1)].describe()"
   ]
  },
  {
   "cell_type": "code",
   "execution_count": 13,
   "metadata": {
    "scrolled": false
   },
   "outputs": [
    {
     "data": {
      "text/plain": [
       "array([[<matplotlib.axes._subplots.AxesSubplot object at 0x10ba09b00>,\n",
       "        <matplotlib.axes._subplots.AxesSubplot object at 0x10baa4668>,\n",
       "        <matplotlib.axes._subplots.AxesSubplot object at 0x10bac76a0>],\n",
       "       [<matplotlib.axes._subplots.AxesSubplot object at 0x1c0e35d4e0>,\n",
       "        <matplotlib.axes._subplots.AxesSubplot object at 0x1c0e34ceb8>,\n",
       "        <matplotlib.axes._subplots.AxesSubplot object at 0x1c0e34ce80>],\n",
       "       [<matplotlib.axes._subplots.AxesSubplot object at 0x1c0e32a860>,\n",
       "        <matplotlib.axes._subplots.AxesSubplot object at 0x1c0e31cbe0>,\n",
       "        <matplotlib.axes._subplots.AxesSubplot object at 0x10b91c198>]],\n",
       "      dtype=object)"
      ]
     },
     "execution_count": 13,
     "metadata": {},
     "output_type": "execute_result"
    },
    {
     "data": {
      "image/png": "[encoded data removed]",
      "text/plain": [
       "<matplotlib.figure.Figure at 0x10ba0d7f0>"
      ]
     },
     "metadata": {},
     "output_type": "display_data"
    }
   ],
   "source": [
    "df[(np.abs(stats.zscore(df[['budget','runtime']])) < 3).all(axis=1)].hist(figsize=(16,10))"
   ]
  },
  {
   "cell_type": "markdown",
   "metadata": {},
   "source": [
    "#### 3. Look at the time series, to see how they change over time\n",
    "* The numbers of movies released increased along with year\n",
    "* The avg runtime looks going down a bit\n",
    "* The budget and revenue looks going up overtime.\n",
    "* The popularity and vote_average looks not big change overtime."
   ]
  },
  {
   "cell_type": "code",
   "execution_count": 14,
   "metadata": {
    "scrolled": false
   },
   "outputs": [
    {
     "data": {
      "text/plain": [
       "<matplotlib.axes._subplots.AxesSubplot at 0x105474b38>"
      ]
     },
     "execution_count": 14,
     "metadata": {},
     "output_type": "execute_result"
    },
    {
     "data": {
      "image/png": "[encoded data removed]",
      "text/plain": [
       "<matplotlib.figure.Figure at 0x10b7e3550>"
      ]
     },
     "metadata": {},
     "output_type": "display_data"
    },
    {
     "data": {
      "image/png": "[encoded data removed]",
      "text/plain": [
       "<matplotlib.figure.Figure at 0x10b9644a8>"
      ]
     },
     "metadata": {},
     "output_type": "display_data"
    },
    {
     "data": {
      "image/png": "[encoded data removed]",
      "text/plain": [
       "<matplotlib.figure.Figure at 0x10547ba58>"
      ]
     },
     "metadata": {},
     "output_type": "display_data"
    }
   ],
   "source": [
    "df.groupby('release_year').agg({'imdb_id':np.size,  'runtime':np.mean}).plot()\n",
    "df.groupby('release_year').agg({'budget':np.mean, 'revenue':np.mean}).plot()\n",
    "df.groupby('release_year').agg({'vote_average':np.mean, 'popularity':np.mean}).plot()"
   ]
  },
  {
   "cell_type": "markdown",
   "metadata": {},
   "source": [
    "<a id='eda'></a>\n",
    "## Exploratory Data Analysis\n",
    "\n",
    "> **Tip**: Now that you've trimmed and cleaned your data, you're ready to move on to exploration. Compute statistics and create visualizations with the goal of addressing the research questions that you posed in the Introduction section. It is recommended that you be systematic with your approach. Look at one variable at a time, and then follow it up by looking at relationships between variables.\n",
    "\n",
    "### Question 1: Which genres are most popular from year to year?"
   ]
  },
  {
   "cell_type": "markdown",
   "metadata": {},
   "source": [
    "#### 1. First, have a overview, what kind of genres there are, and the number of movies in the specific genres"
   ]
  },
  {
   "cell_type": "code",
   "execution_count": 15,
   "metadata": {
    "scrolled": false
   },
   "outputs": [
    {
     "data": {
      "text/plain": [
       "Drama              1757.0\n",
       "Comedy             1358.0\n",
       "Thriller           1205.0\n",
       "Action             1086.0\n",
       "Adventure           749.0\n",
       "Romance             667.0\n",
       "Crime               652.0\n",
       "Science Fiction     520.0\n",
       "Horror              463.0\n",
       "Family              425.0\n",
       "Fantasy             396.0\n",
       "Mystery             344.0\n",
       "Animation           201.0\n",
       "Music               136.0\n",
       "History             129.0\n",
       "War                 119.0\n",
       "Western              52.0\n",
       "Documentary          35.0\n",
       "Foreign              13.0\n",
       "TV Movie              1.0\n",
       "dtype: float64"
      ]
     },
     "execution_count": 15,
     "metadata": {},
     "output_type": "execute_result"
    }
   ],
   "source": [
    "# For the genres column, there are multivalue in one row, so I need split them and then do the statistics.\n",
    "genre_details = df['genres'].str.split('|', expand=True)\n",
    "genre_details.apply(pd.Series.value_counts).sum(axis=1).sort_values(ascending=False)"
   ]
  },
  {
   "cell_type": "markdown",
   "metadata": {},
   "source": [
    "#### 2. Generate the dataframe, and would like to analyze, which genres are most popular from year to year?"
   ]
  },
  {
   "cell_type": "code",
   "execution_count": 16,
   "metadata": {
    "scrolled": false
   },
   "outputs": [],
   "source": [
    "# generate the unique genres list.\n",
    "df_genres = df['genres'].tolist()\n",
    "genres = []\n",
    "for i in df_genres:\n",
    "    if i is not None:\n",
    "        split_genre = i.split('|')\n",
    "        for j in split_genre:\n",
    "            if j not in genres:\n",
    "                genres.append(j)"
   ]
  },
  {
   "cell_type": "code",
   "execution_count": 17,
   "metadata": {
    "scrolled": false
   },
   "outputs": [
    {
     "name": "stdout",
     "output_type": "stream",
     "text": [
      "0\n"
     ]
    },
    {
     "data": {
      "text/html": [
       "<div>\n",
       "<style scoped>\n",
       "    .dataframe tbody tr th:only-of-type {\n",
       "        vertical-align: middle;\n",
       "    }\n",
       "\n",
       "    .dataframe tbody tr th {\n",
       "        vertical-align: top;\n",
       "    }\n",
       "\n",
       "    .dataframe thead th {\n",
       "        text-align: right;\n",
       "    }\n",
       "</style>\n",
       "<table border=\"1\" class=\"dataframe\">\n",
       "  <thead>\n",
       "    <tr style=\"text-align: right;\">\n",
       "      <th></th>\n",
       "      <th>1960</th>\n",
       "      <th>1961</th>\n",
       "      <th>1962</th>\n",
       "      <th>1963</th>\n",
       "      <th>1964</th>\n",
       "      <th>1965</th>\n",
       "      <th>1966</th>\n",
       "      <th>1967</th>\n",
       "      <th>1968</th>\n",
       "      <th>1969</th>\n",
       "      <th>...</th>\n",
       "      <th>2006</th>\n",
       "      <th>2007</th>\n",
       "      <th>2008</th>\n",
       "      <th>2009</th>\n",
       "      <th>2010</th>\n",
       "      <th>2011</th>\n",
       "      <th>2012</th>\n",
       "      <th>2013</th>\n",
       "      <th>2014</th>\n",
       "      <th>2015</th>\n",
       "    </tr>\n",
       "  </thead>\n",
       "  <tbody>\n",
       "    <tr>\n",
       "      <th>Action</th>\n",
       "      <td>3.009075</td>\n",
       "      <td>0.928279</td>\n",
       "      <td>3.696759</td>\n",
       "      <td>2.715396</td>\n",
       "      <td>3.153791</td>\n",
       "      <td>2.532622</td>\n",
       "      <td>0.695579</td>\n",
       "      <td>4.015400</td>\n",
       "      <td>1.356276</td>\n",
       "      <td>1.778746</td>\n",
       "      <td>...</td>\n",
       "      <td>45.214271</td>\n",
       "      <td>49.787810</td>\n",
       "      <td>71.755938</td>\n",
       "      <td>70.883424</td>\n",
       "      <td>80.026333</td>\n",
       "      <td>92.110903</td>\n",
       "      <td>87.006893</td>\n",
       "      <td>93.236770</td>\n",
       "      <td>176.235917</td>\n",
       "      <td>200.267831</td>\n",
       "    </tr>\n",
       "    <tr>\n",
       "      <th>Adventure</th>\n",
       "      <td>1.872132</td>\n",
       "      <td>3.386535</td>\n",
       "      <td>4.865526</td>\n",
       "      <td>3.172561</td>\n",
       "      <td>3.153791</td>\n",
       "      <td>2.532622</td>\n",
       "      <td>0.507168</td>\n",
       "      <td>6.807387</td>\n",
       "      <td>5.031555</td>\n",
       "      <td>2.394635</td>\n",
       "      <td>...</td>\n",
       "      <td>42.210460</td>\n",
       "      <td>37.756058</td>\n",
       "      <td>52.488010</td>\n",
       "      <td>66.043675</td>\n",
       "      <td>67.552506</td>\n",
       "      <td>59.577266</td>\n",
       "      <td>62.935832</td>\n",
       "      <td>73.913796</td>\n",
       "      <td>148.341227</td>\n",
       "      <td>199.382091</td>\n",
       "    </tr>\n",
       "    <tr>\n",
       "      <th>Science Fiction</th>\n",
       "      <td>0.000000</td>\n",
       "      <td>0.000000</td>\n",
       "      <td>0.000000</td>\n",
       "      <td>0.000000</td>\n",
       "      <td>0.000000</td>\n",
       "      <td>0.000000</td>\n",
       "      <td>0.207257</td>\n",
       "      <td>0.000000</td>\n",
       "      <td>4.507375</td>\n",
       "      <td>0.000000</td>\n",
       "      <td>...</td>\n",
       "      <td>16.884195</td>\n",
       "      <td>15.428433</td>\n",
       "      <td>29.513268</td>\n",
       "      <td>55.745086</td>\n",
       "      <td>29.882181</td>\n",
       "      <td>43.341604</td>\n",
       "      <td>40.382077</td>\n",
       "      <td>57.654333</td>\n",
       "      <td>126.101965</td>\n",
       "      <td>167.082032</td>\n",
       "    </tr>\n",
       "    <tr>\n",
       "      <th>Thriller</th>\n",
       "      <td>2.610362</td>\n",
       "      <td>0.000000</td>\n",
       "      <td>3.170651</td>\n",
       "      <td>4.092655</td>\n",
       "      <td>3.817237</td>\n",
       "      <td>1.910465</td>\n",
       "      <td>0.402730</td>\n",
       "      <td>2.569521</td>\n",
       "      <td>0.786854</td>\n",
       "      <td>1.778746</td>\n",
       "      <td>...</td>\n",
       "      <td>57.165286</td>\n",
       "      <td>62.800272</td>\n",
       "      <td>61.675756</td>\n",
       "      <td>66.378336</td>\n",
       "      <td>70.802156</td>\n",
       "      <td>83.599347</td>\n",
       "      <td>73.186281</td>\n",
       "      <td>77.372798</td>\n",
       "      <td>116.791205</td>\n",
       "      <td>183.929619</td>\n",
       "    </tr>\n",
       "    <tr>\n",
       "      <th>Fantasy</th>\n",
       "      <td>0.000000</td>\n",
       "      <td>0.000000</td>\n",
       "      <td>0.000000</td>\n",
       "      <td>0.000000</td>\n",
       "      <td>1.987819</td>\n",
       "      <td>0.000000</td>\n",
       "      <td>0.000000</td>\n",
       "      <td>0.241283</td>\n",
       "      <td>0.000000</td>\n",
       "      <td>0.000000</td>\n",
       "      <td>...</td>\n",
       "      <td>26.712414</td>\n",
       "      <td>35.191101</td>\n",
       "      <td>26.085987</td>\n",
       "      <td>37.426758</td>\n",
       "      <td>36.763215</td>\n",
       "      <td>37.566325</td>\n",
       "      <td>37.832559</td>\n",
       "      <td>32.236092</td>\n",
       "      <td>55.176084</td>\n",
       "      <td>43.241109</td>\n",
       "    </tr>\n",
       "    <tr>\n",
       "      <th>Crime</th>\n",
       "      <td>0.000000</td>\n",
       "      <td>0.900245</td>\n",
       "      <td>0.810805</td>\n",
       "      <td>0.000000</td>\n",
       "      <td>0.663446</td>\n",
       "      <td>0.000000</td>\n",
       "      <td>0.000000</td>\n",
       "      <td>2.715840</td>\n",
       "      <td>0.786854</td>\n",
       "      <td>1.357317</td>\n",
       "      <td>...</td>\n",
       "      <td>25.523123</td>\n",
       "      <td>32.087640</td>\n",
       "      <td>36.583606</td>\n",
       "      <td>16.239235</td>\n",
       "      <td>27.154970</td>\n",
       "      <td>34.648336</td>\n",
       "      <td>33.753904</td>\n",
       "      <td>47.915296</td>\n",
       "      <td>34.454964</td>\n",
       "      <td>69.647798</td>\n",
       "    </tr>\n",
       "    <tr>\n",
       "      <th>Western</th>\n",
       "      <td>1.872132</td>\n",
       "      <td>0.173731</td>\n",
       "      <td>1.033186</td>\n",
       "      <td>0.000000</td>\n",
       "      <td>0.000000</td>\n",
       "      <td>0.000000</td>\n",
       "      <td>0.395668</td>\n",
       "      <td>0.000000</td>\n",
       "      <td>0.621202</td>\n",
       "      <td>1.973206</td>\n",
       "      <td>...</td>\n",
       "      <td>0.463068</td>\n",
       "      <td>1.804135</td>\n",
       "      <td>0.646244</td>\n",
       "      <td>0.000000</td>\n",
       "      <td>3.374361</td>\n",
       "      <td>3.139365</td>\n",
       "      <td>5.944518</td>\n",
       "      <td>1.602102</td>\n",
       "      <td>0.870104</td>\n",
       "      <td>15.009100</td>\n",
       "    </tr>\n",
       "    <tr>\n",
       "      <th>Drama</th>\n",
       "      <td>4.694612</td>\n",
       "      <td>4.518134</td>\n",
       "      <td>3.206667</td>\n",
       "      <td>1.676020</td>\n",
       "      <td>3.690725</td>\n",
       "      <td>2.741762</td>\n",
       "      <td>0.970185</td>\n",
       "      <td>5.478296</td>\n",
       "      <td>3.137832</td>\n",
       "      <td>2.217123</td>\n",
       "      <td>...</td>\n",
       "      <td>72.886690</td>\n",
       "      <td>66.947229</td>\n",
       "      <td>74.019136</td>\n",
       "      <td>77.922543</td>\n",
       "      <td>75.953710</td>\n",
       "      <td>83.008665</td>\n",
       "      <td>87.219776</td>\n",
       "      <td>97.530711</td>\n",
       "      <td>164.252847</td>\n",
       "      <td>165.348458</td>\n",
       "    </tr>\n",
       "    <tr>\n",
       "      <th>Family</th>\n",
       "      <td>0.000000</td>\n",
       "      <td>2.935770</td>\n",
       "      <td>0.000000</td>\n",
       "      <td>0.000000</td>\n",
       "      <td>2.621701</td>\n",
       "      <td>1.313676</td>\n",
       "      <td>0.000000</td>\n",
       "      <td>2.791987</td>\n",
       "      <td>0.633129</td>\n",
       "      <td>0.000000</td>\n",
       "      <td>...</td>\n",
       "      <td>31.672347</td>\n",
       "      <td>28.429192</td>\n",
       "      <td>27.189187</td>\n",
       "      <td>36.246911</td>\n",
       "      <td>39.778978</td>\n",
       "      <td>33.055324</td>\n",
       "      <td>19.316146</td>\n",
       "      <td>29.330542</td>\n",
       "      <td>33.520186</td>\n",
       "      <td>43.861123</td>\n",
       "    </tr>\n",
       "    <tr>\n",
       "      <th>Animation</th>\n",
       "      <td>0.000000</td>\n",
       "      <td>2.631987</td>\n",
       "      <td>0.000000</td>\n",
       "      <td>0.000000</td>\n",
       "      <td>0.000000</td>\n",
       "      <td>0.000000</td>\n",
       "      <td>0.000000</td>\n",
       "      <td>2.550704</td>\n",
       "      <td>0.000000</td>\n",
       "      <td>0.000000</td>\n",
       "      <td>...</td>\n",
       "      <td>18.447325</td>\n",
       "      <td>13.594778</td>\n",
       "      <td>16.577006</td>\n",
       "      <td>24.137930</td>\n",
       "      <td>18.502974</td>\n",
       "      <td>18.959523</td>\n",
       "      <td>18.676666</td>\n",
       "      <td>23.813636</td>\n",
       "      <td>27.173109</td>\n",
       "      <td>28.528160</td>\n",
       "    </tr>\n",
       "    <tr>\n",
       "      <th>Comedy</th>\n",
       "      <td>1.003128</td>\n",
       "      <td>4.978082</td>\n",
       "      <td>0.000000</td>\n",
       "      <td>0.920094</td>\n",
       "      <td>5.010488</td>\n",
       "      <td>0.622157</td>\n",
       "      <td>0.000000</td>\n",
       "      <td>4.880094</td>\n",
       "      <td>0.000000</td>\n",
       "      <td>0.000000</td>\n",
       "      <td>...</td>\n",
       "      <td>62.282861</td>\n",
       "      <td>46.904938</td>\n",
       "      <td>50.973839</td>\n",
       "      <td>67.029914</td>\n",
       "      <td>63.377340</td>\n",
       "      <td>80.255801</td>\n",
       "      <td>64.872510</td>\n",
       "      <td>59.931609</td>\n",
       "      <td>106.235516</td>\n",
       "      <td>109.859657</td>\n",
       "    </tr>\n",
       "    <tr>\n",
       "      <th>Mystery</th>\n",
       "      <td>0.000000</td>\n",
       "      <td>0.000000</td>\n",
       "      <td>0.000000</td>\n",
       "      <td>0.920094</td>\n",
       "      <td>0.663446</td>\n",
       "      <td>0.000000</td>\n",
       "      <td>0.402730</td>\n",
       "      <td>0.428652</td>\n",
       "      <td>5.186660</td>\n",
       "      <td>0.000000</td>\n",
       "      <td>...</td>\n",
       "      <td>17.915070</td>\n",
       "      <td>26.214121</td>\n",
       "      <td>12.739039</td>\n",
       "      <td>21.251952</td>\n",
       "      <td>28.830106</td>\n",
       "      <td>23.471552</td>\n",
       "      <td>9.386675</td>\n",
       "      <td>10.019950</td>\n",
       "      <td>25.029185</td>\n",
       "      <td>34.686614</td>\n",
       "    </tr>\n",
       "    <tr>\n",
       "      <th>Romance</th>\n",
       "      <td>1.003128</td>\n",
       "      <td>1.752027</td>\n",
       "      <td>0.000000</td>\n",
       "      <td>1.724627</td>\n",
       "      <td>0.816804</td>\n",
       "      <td>2.595729</td>\n",
       "      <td>0.299911</td>\n",
       "      <td>2.876798</td>\n",
       "      <td>0.045242</td>\n",
       "      <td>0.000000</td>\n",
       "      <td>...</td>\n",
       "      <td>29.963502</td>\n",
       "      <td>24.560078</td>\n",
       "      <td>35.271054</td>\n",
       "      <td>33.144338</td>\n",
       "      <td>32.687962</td>\n",
       "      <td>35.818209</td>\n",
       "      <td>30.395201</td>\n",
       "      <td>24.696773</td>\n",
       "      <td>28.931657</td>\n",
       "      <td>37.944541</td>\n",
       "    </tr>\n",
       "    <tr>\n",
       "      <th>War</th>\n",
       "      <td>0.000000</td>\n",
       "      <td>0.754548</td>\n",
       "      <td>1.168767</td>\n",
       "      <td>0.664326</td>\n",
       "      <td>2.210475</td>\n",
       "      <td>1.282053</td>\n",
       "      <td>0.299911</td>\n",
       "      <td>0.485288</td>\n",
       "      <td>0.948080</td>\n",
       "      <td>0.000000</td>\n",
       "      <td>...</td>\n",
       "      <td>3.481861</td>\n",
       "      <td>3.123760</td>\n",
       "      <td>8.320985</td>\n",
       "      <td>8.133049</td>\n",
       "      <td>1.784073</td>\n",
       "      <td>2.926283</td>\n",
       "      <td>4.733041</td>\n",
       "      <td>1.831758</td>\n",
       "      <td>29.879655</td>\n",
       "      <td>9.716191</td>\n",
       "    </tr>\n",
       "    <tr>\n",
       "      <th>History</th>\n",
       "      <td>1.136943</td>\n",
       "      <td>0.538364</td>\n",
       "      <td>1.168767</td>\n",
       "      <td>1.676020</td>\n",
       "      <td>0.000000</td>\n",
       "      <td>0.146033</td>\n",
       "      <td>0.000000</td>\n",
       "      <td>0.000000</td>\n",
       "      <td>0.569422</td>\n",
       "      <td>1.357317</td>\n",
       "      <td>...</td>\n",
       "      <td>5.487888</td>\n",
       "      <td>4.642207</td>\n",
       "      <td>4.729319</td>\n",
       "      <td>3.922286</td>\n",
       "      <td>3.871427</td>\n",
       "      <td>1.223269</td>\n",
       "      <td>2.181465</td>\n",
       "      <td>9.660845</td>\n",
       "      <td>13.284060</td>\n",
       "      <td>11.291968</td>\n",
       "    </tr>\n",
       "    <tr>\n",
       "      <th>Music</th>\n",
       "      <td>0.000000</td>\n",
       "      <td>0.900245</td>\n",
       "      <td>0.000000</td>\n",
       "      <td>0.000000</td>\n",
       "      <td>3.433895</td>\n",
       "      <td>1.313676</td>\n",
       "      <td>0.000000</td>\n",
       "      <td>0.454574</td>\n",
       "      <td>0.633129</td>\n",
       "      <td>0.000000</td>\n",
       "      <td>...</td>\n",
       "      <td>6.025848</td>\n",
       "      <td>7.857112</td>\n",
       "      <td>3.480548</td>\n",
       "      <td>5.582820</td>\n",
       "      <td>1.146440</td>\n",
       "      <td>3.681806</td>\n",
       "      <td>7.565750</td>\n",
       "      <td>5.396041</td>\n",
       "      <td>12.465746</td>\n",
       "      <td>12.522510</td>\n",
       "    </tr>\n",
       "    <tr>\n",
       "      <th>Horror</th>\n",
       "      <td>2.610362</td>\n",
       "      <td>0.249542</td>\n",
       "      <td>0.000000</td>\n",
       "      <td>1.139321</td>\n",
       "      <td>0.000000</td>\n",
       "      <td>0.000000</td>\n",
       "      <td>0.000000</td>\n",
       "      <td>0.000000</td>\n",
       "      <td>0.724527</td>\n",
       "      <td>0.000000</td>\n",
       "      <td>...</td>\n",
       "      <td>10.293124</td>\n",
       "      <td>27.570568</td>\n",
       "      <td>5.003323</td>\n",
       "      <td>17.856315</td>\n",
       "      <td>15.759178</td>\n",
       "      <td>13.430433</td>\n",
       "      <td>20.652194</td>\n",
       "      <td>25.243224</td>\n",
       "      <td>22.168354</td>\n",
       "      <td>25.595838</td>\n",
       "    </tr>\n",
       "    <tr>\n",
       "      <th>Documentary</th>\n",
       "      <td>0.000000</td>\n",
       "      <td>0.000000</td>\n",
       "      <td>0.000000</td>\n",
       "      <td>0.000000</td>\n",
       "      <td>0.000000</td>\n",
       "      <td>0.000000</td>\n",
       "      <td>0.000000</td>\n",
       "      <td>0.000000</td>\n",
       "      <td>0.000000</td>\n",
       "      <td>0.000000</td>\n",
       "      <td>...</td>\n",
       "      <td>1.035539</td>\n",
       "      <td>1.072204</td>\n",
       "      <td>0.021371</td>\n",
       "      <td>0.576401</td>\n",
       "      <td>1.841546</td>\n",
       "      <td>1.038421</td>\n",
       "      <td>0.125567</td>\n",
       "      <td>0.000000</td>\n",
       "      <td>0.000000</td>\n",
       "      <td>0.000000</td>\n",
       "    </tr>\n",
       "    <tr>\n",
       "      <th>Foreign</th>\n",
       "      <td>0.000000</td>\n",
       "      <td>0.000000</td>\n",
       "      <td>0.000000</td>\n",
       "      <td>0.000000</td>\n",
       "      <td>0.000000</td>\n",
       "      <td>0.000000</td>\n",
       "      <td>0.000000</td>\n",
       "      <td>0.000000</td>\n",
       "      <td>0.000000</td>\n",
       "      <td>0.000000</td>\n",
       "      <td>...</td>\n",
       "      <td>0.000000</td>\n",
       "      <td>0.063177</td>\n",
       "      <td>0.752241</td>\n",
       "      <td>0.000000</td>\n",
       "      <td>0.426262</td>\n",
       "      <td>0.000000</td>\n",
       "      <td>0.000000</td>\n",
       "      <td>0.000000</td>\n",
       "      <td>0.000000</td>\n",
       "      <td>0.000000</td>\n",
       "    </tr>\n",
       "    <tr>\n",
       "      <th>TV Movie</th>\n",
       "      <td>0.000000</td>\n",
       "      <td>0.000000</td>\n",
       "      <td>0.000000</td>\n",
       "      <td>0.000000</td>\n",
       "      <td>0.000000</td>\n",
       "      <td>0.000000</td>\n",
       "      <td>0.000000</td>\n",
       "      <td>0.000000</td>\n",
       "      <td>0.000000</td>\n",
       "      <td>0.000000</td>\n",
       "      <td>...</td>\n",
       "      <td>0.000000</td>\n",
       "      <td>0.000000</td>\n",
       "      <td>0.000000</td>\n",
       "      <td>0.000000</td>\n",
       "      <td>0.000000</td>\n",
       "      <td>0.000000</td>\n",
       "      <td>0.000000</td>\n",
       "      <td>0.000000</td>\n",
       "      <td>0.000000</td>\n",
       "      <td>0.000000</td>\n",
       "    </tr>\n",
       "  </tbody>\n",
       "</table>\n",
       "<p>20 rows × 56 columns</p>\n",
       "</div>"
      ],
      "text/plain": [
       "                     1960      1961      1962      1963      1964      1965  \\\n",
       "Action           3.009075  0.928279  3.696759  2.715396  3.153791  2.532622   \n",
       "Adventure        1.872132  3.386535  4.865526  3.172561  3.153791  2.532622   \n",
       "Science Fiction  0.000000  0.000000  0.000000  0.000000  0.000000  0.000000   \n",
       "Thriller         2.610362  0.000000  3.170651  4.092655  3.817237  1.910465   \n",
       "Fantasy          0.000000  0.000000  0.000000  0.000000  1.987819  0.000000   \n",
       "Crime            0.000000  0.900245  0.810805  0.000000  0.663446  0.000000   \n",
       "Western          1.872132  0.173731  1.033186  0.000000  0.000000  0.000000   \n",
       "Drama            4.694612  4.518134  3.206667  1.676020  3.690725  2.741762   \n",
       "Family           0.000000  2.935770  0.000000  0.000000  2.621701  1.313676   \n",
       "Animation        0.000000  2.631987  0.000000  0.000000  0.000000  0.000000   \n",
       "Comedy           1.003128  4.978082  0.000000  0.920094  5.010488  0.622157   \n",
       "Mystery          0.000000  0.000000  0.000000  0.920094  0.663446  0.000000   \n",
       "Romance          1.003128  1.752027  0.000000  1.724627  0.816804  2.595729   \n",
       "War              0.000000  0.754548  1.168767  0.664326  2.210475  1.282053   \n",
       "History          1.136943  0.538364  1.168767  1.676020  0.000000  0.146033   \n",
       "Music            0.000000  0.900245  0.000000  0.000000  3.433895  1.313676   \n",
       "Horror           2.610362  0.249542  0.000000  1.139321  0.000000  0.000000   \n",
       "Documentary      0.000000  0.000000  0.000000  0.000000  0.000000  0.000000   \n",
       "Foreign          0.000000  0.000000  0.000000  0.000000  0.000000  0.000000   \n",
       "TV Movie         0.000000  0.000000  0.000000  0.000000  0.000000  0.000000   \n",
       "\n",
       "                     1966      1967      1968      1969     ...      \\\n",
       "Action           0.695579  4.015400  1.356276  1.778746     ...       \n",
       "Adventure        0.507168  6.807387  5.031555  2.394635     ...       \n",
       "Science Fiction  0.207257  0.000000  4.507375  0.000000     ...       \n",
       "Thriller         0.402730  2.569521  0.786854  1.778746     ...       \n",
       "Fantasy          0.000000  0.241283  0.000000  0.000000     ...       \n",
       "Crime            0.000000  2.715840  0.786854  1.357317     ...       \n",
       "Western          0.395668  0.000000  0.621202  1.973206     ...       \n",
       "Drama            0.970185  5.478296  3.137832  2.217123     ...       \n",
       "Family           0.000000  2.791987  0.633129  0.000000     ...       \n",
       "Animation        0.000000  2.550704  0.000000  0.000000     ...       \n",
       "Comedy           0.000000  4.880094  0.000000  0.000000     ...       \n",
       "Mystery          0.402730  0.428652  5.186660  0.000000     ...       \n",
       "Romance          0.299911  2.876798  0.045242  0.000000     ...       \n",
       "War              0.299911  0.485288  0.948080  0.000000     ...       \n",
       "History          0.000000  0.000000  0.569422  1.357317     ...       \n",
       "Music            0.000000  0.454574  0.633129  0.000000     ...       \n",
       "Horror           0.000000  0.000000  0.724527  0.000000     ...       \n",
       "Documentary      0.000000  0.000000  0.000000  0.000000     ...       \n",
       "Foreign          0.000000  0.000000  0.000000  0.000000     ...       \n",
       "TV Movie         0.000000  0.000000  0.000000  0.000000     ...       \n",
       "\n",
       "                      2006       2007       2008       2009       2010  \\\n",
       "Action           45.214271  49.787810  71.755938  70.883424  80.026333   \n",
       "Adventure        42.210460  37.756058  52.488010  66.043675  67.552506   \n",
       "Science Fiction  16.884195  15.428433  29.513268  55.745086  29.882181   \n",
       "Thriller         57.165286  62.800272  61.675756  66.378336  70.802156   \n",
       "Fantasy          26.712414  35.191101  26.085987  37.426758  36.763215   \n",
       "Crime            25.523123  32.087640  36.583606  16.239235  27.154970   \n",
       "Western           0.463068   1.804135   0.646244   0.000000   3.374361   \n",
       "Drama            72.886690  66.947229  74.019136  77.922543  75.953710   \n",
       "Family           31.672347  28.429192  27.189187  36.246911  39.778978   \n",
       "Animation        18.447325  13.594778  16.577006  24.137930  18.502974   \n",
       "Comedy           62.282861  46.904938  50.973839  67.029914  63.377340   \n",
       "Mystery          17.915070  26.214121  12.739039  21.251952  28.830106   \n",
       "Romance          29.963502  24.560078  35.271054  33.144338  32.687962   \n",
       "War               3.481861   3.123760   8.320985   8.133049   1.784073   \n",
       "History           5.487888   4.642207   4.729319   3.922286   3.871427   \n",
       "Music             6.025848   7.857112   3.480548   5.582820   1.146440   \n",
       "Horror           10.293124  27.570568   5.003323  17.856315  15.759178   \n",
       "Documentary       1.035539   1.072204   0.021371   0.576401   1.841546   \n",
       "Foreign           0.000000   0.063177   0.752241   0.000000   0.426262   \n",
       "TV Movie          0.000000   0.000000   0.000000   0.000000   0.000000   \n",
       "\n",
       "                      2011       2012       2013        2014        2015  \n",
       "Action           92.110903  87.006893  93.236770  176.235917  200.267831  \n",
       "Adventure        59.577266  62.935832  73.913796  148.341227  199.382091  \n",
       "Science Fiction  43.341604  40.382077  57.654333  126.101965  167.082032  \n",
       "Thriller         83.599347  73.186281  77.372798  116.791205  183.929619  \n",
       "Fantasy          37.566325  37.832559  32.236092   55.176084   43.241109  \n",
       "Crime            34.648336  33.753904  47.915296   34.454964   69.647798  \n",
       "Western           3.139365   5.944518   1.602102    0.870104   15.009100  \n",
       "Drama            83.008665  87.219776  97.530711  164.252847  165.348458  \n",
       "Family           33.055324  19.316146  29.330542   33.520186   43.861123  \n",
       "Animation        18.959523  18.676666  23.813636   27.173109   28.528160  \n",
       "Comedy           80.255801  64.872510  59.931609  106.235516  109.859657  \n",
       "Mystery          23.471552   9.386675  10.019950   25.029185   34.686614  \n",
       "Romance          35.818209  30.395201  24.696773   28.931657   37.944541  \n",
       "War               2.926283   4.733041   1.831758   29.879655    9.716191  \n",
       "History           1.223269   2.181465   9.660845   13.284060   11.291968  \n",
       "Music             3.681806   7.565750   5.396041   12.465746   12.522510  \n",
       "Horror           13.430433  20.652194  25.243224   22.168354   25.595838  \n",
       "Documentary       1.038421   0.125567   0.000000    0.000000    0.000000  \n",
       "Foreign           0.000000   0.000000   0.000000    0.000000    0.000000  \n",
       "TV Movie          0.000000   0.000000   0.000000    0.000000    0.000000  \n",
       "\n",
       "[20 rows x 56 columns]"
      ]
     },
     "execution_count": 17,
     "metadata": {},
     "output_type": "execute_result"
    }
   ],
   "source": [
    "# Create a dataframe, using genres as index, and year as column, and calculate for the specific year and genres,\n",
    "# what's popularity, and then we could track the trends over time.\n",
    "\n",
    "popularity_df = pd.DataFrame(index = genres, columns = range(df['release_year'].min(), df['release_year'].max() + 1))\n",
    "popularity_df = popularity_df.fillna(value = 0.0)\n",
    "popularity = np.array(df['popularity'])\n",
    "year = np.array(df['release_year'])\n",
    "\n",
    "print (len(popularity[popularity==0]))\n",
    "# index to access year value\n",
    "z = 0\n",
    "for i in df_genres:\n",
    "    split_genre = list(map(str,i.split('|')))\n",
    "    for j in split_genre:\n",
    "            popularity_df.loc[j, year[z]] = popularity_df.loc[j, year[z]] + popularity[z]\n",
    "    z+=1\n",
    "popularity_df"
   ]
  },
  {
   "cell_type": "markdown",
   "metadata": {},
   "source": [
    "#### 3. Visuralize the popularity trends over year by genres."
   ]
  },
  {
   "cell_type": "code",
   "execution_count": 34,
   "metadata": {
    "scrolled": false
   },
   "outputs": [
    {
     "data": {
      "text/plain": [
       "<matplotlib.axes._subplots.AxesSubplot at 0x10cf3ecf8>"
      ]
     },
     "execution_count": 34,
     "metadata": {},
     "output_type": "execute_result"
    },
    {
     "data": {
      "image/png": "[encoded data removed]",
      "text/plain": [
       "<matplotlib.figure.Figure at 0x1c0dacff60>"
      ]
     },
     "metadata": {},
     "output_type": "display_data"
    }
   ],
   "source": [
    "# Sort the dataframe by the total popularity in that genres and plot the chart\n",
    "idd = popularity_df.sum(axis=1).sort_values(ascending=False).head(3).index\n",
    "popularity_df.loc[idd].transpose().plot(figsize=(16,10), title='The most common genres over year')"
   ]
  },
  {
   "cell_type": "markdown",
   "metadata": {},
   "source": [
    "#### Conclusion for the first question:\n",
    "* The top three common popular genre are Drama, Comedy and Thriller over year."
   ]
  },
  {
   "cell_type": "markdown",
   "metadata": {},
   "source": [
    "### Question 2: What kind of factors are correlated with movie profit(Means Return of investment)?"
   ]
  },
  {
   "cell_type": "markdown",
   "metadata": {},
   "source": [
    "#### 1. General overview how many of movies made profit, what percentage?\n",
    "\n",
    "* Along with more films were released, the proportion of profitable films looks getting down"
   ]
  },
  {
   "cell_type": "code",
   "execution_count": 20,
   "metadata": {},
   "outputs": [],
   "source": [
    "# Create a new column as ROI\n",
    "df['ROI'] = df['revenue']- df['budget']\n",
    "df['profit'] = df['revenue'] - df['budget']>0"
   ]
  },
  {
   "cell_type": "code",
   "execution_count": 21,
   "metadata": {
    "scrolled": false
   },
   "outputs": [
    {
     "data": {
      "text/plain": [
       "count    3.855000e+03\n",
       "mean     7.045710e+07\n",
       "std      1.506085e+08\n",
       "min     -4.139124e+08\n",
       "25%     -1.325776e+06\n",
       "50%      2.000718e+07\n",
       "75%      8.168326e+07\n",
       "max      2.544506e+09\n",
       "Name: ROI, dtype: float64"
      ]
     },
     "execution_count": 21,
     "metadata": {},
     "output_type": "execute_result"
    }
   ],
   "source": [
    "df['ROI'].describe()"
   ]
  },
  {
   "cell_type": "code",
   "execution_count": 22,
   "metadata": {},
   "outputs": [],
   "source": [
    "# Create a function to get the percentage of profit films.\n",
    "def get_stats(data):\n",
    "    data_count = pd.DataFrame(data['release_year'].value_counts())\n",
    "    roi_count = pd.DataFrame(data[data['ROI']>0].release_year.value_counts())\n",
    "    return data_count.merge(roi_count, how = 'left', left_index=True, right_index=True, sort=True, suffixes=('_total_movie', '_profitable_movie'))"
   ]
  },
  {
   "cell_type": "code",
   "execution_count": 23,
   "metadata": {},
   "outputs": [],
   "source": [
    "release_roi = get_stats(df)"
   ]
  },
  {
   "cell_type": "code",
   "execution_count": 24,
   "metadata": {},
   "outputs": [],
   "source": [
    "release_roi['proportion'] = release_roi['release_year_profitable_movie']*1.0/release_roi['release_year_total_movie']"
   ]
  },
  {
   "cell_type": "code",
   "execution_count": 25,
   "metadata": {
    "scrolled": false
   },
   "outputs": [
    {
     "data": {
      "text/plain": [
       "Text(0.5,1,'Profitable proportion of total movie')"
      ]
     },
     "execution_count": 25,
     "metadata": {},
     "output_type": "execute_result"
    },
    {
     "data": {
      "image/png": "[encoded data removed]",
      "text/plain": [
       "<matplotlib.figure.Figure at 0x10ca77240>"
      ]
     },
     "metadata": {},
     "output_type": "display_data"
    }
   ],
   "source": [
    "f, axes = plt.subplots(2, 1, figsize=(7, 7), sharex=True)\n",
    "\n",
    "release_roi[['release_year_total_movie', 'release_year_profitable_movie']].plot(ax=axes[0]); axes[0].set_title('movie amounts')\n",
    "release_roi['proportion'].plot(ax=axes[1]); axes[1].set_title('Profitable proportion of total movie')"
   ]
  },
  {
   "cell_type": "markdown",
   "metadata": {},
   "source": [
    "#### 2. Feature selecting "
   ]
  },
  {
   "cell_type": "markdown",
   "metadata": {},
   "source": [
    "#### Conclusion:\n",
    "* Release_month have different distribution in profit films and nonprofit films, Amongst the profit films, the release year were more likely last month of each quarter.\n",
    "* Release_month, Runtime and budget have significant correlation with profit, but R square are too low, so I need dig into that."
   ]
  },
  {
   "cell_type": "code",
   "execution_count": 26,
   "metadata": {},
   "outputs": [],
   "source": [
    "df['release_month'] = pd.to_datetime(df['release_date']).dt.month"
   ]
  },
  {
   "cell_type": "code",
   "execution_count": 29,
   "metadata": {
    "scrolled": false
   },
   "outputs": [
    {
     "data": {
      "text/plain": [
       "Text(0.5,1,'Distribution of release month in the Non-profit group')"
      ]
     },
     "execution_count": 29,
     "metadata": {},
     "output_type": "execute_result"
    },
    {
     "data": {
      "image/png": "[encoded data removed]",
      "text/plain": [
       "<matplotlib.figure.Figure at 0x10ca77cc0>"
      ]
     },
     "metadata": {},
     "output_type": "display_data"
    }
   ],
   "source": [
    "sns.distplot(df[df['ROI']<0].release_month).set_title('Distribution of release month in the Non-profit group')"
   ]
  },
  {
   "cell_type": "code",
   "execution_count": 30,
   "metadata": {
    "scrolled": true
   },
   "outputs": [
    {
     "data": {
      "text/plain": [
       "Text(0.5,1,'Distribution of release month in the Profit group')"
      ]
     },
     "execution_count": 30,
     "metadata": {},
     "output_type": "execute_result"
    },
    {
     "data": {
      "image/png": "[encoded data removed]",
      "text/plain": [
       "<matplotlib.figure.Figure at 0x10cc88278>"
      ]
     },
     "metadata": {},
     "output_type": "display_data"
    }
   ],
   "source": [
    "sns.distplot(df[df['ROI']>0].release_month).set_title('Distribution of release month in the Profit group')"
   ]
  },
  {
   "cell_type": "code",
   "execution_count": 30,
   "metadata": {
    "scrolled": false
   },
   "outputs": [
    {
     "name": "stdout",
     "output_type": "stream",
     "text": [
      "Optimization terminated successfully.\n",
      "         Current function value: 0.609380\n",
      "         Iterations 5\n",
      "                           Logit Regression Results                           \n",
      "==============================================================================\n",
      "Dep. Variable:                 profit   No. Observations:                 3855\n",
      "Model:                          Logit   Df Residuals:                     3854\n",
      "Method:                           MLE   Df Model:                            0\n",
      "Date:                Fri, 29 Jun 2018   Pseudo R-squ.:                -0.02873\n",
      "Time:                        10:13:53   Log-Likelihood:                -2349.2\n",
      "converged:                       True   LL-Null:                       -2283.6\n",
      "                                        LLR p-value:                       nan\n",
      "=================================================================================\n",
      "                    coef    std err          z      P>|z|      [0.025      0.975]\n",
      "---------------------------------------------------------------------------------\n",
      "release_month     0.1126      0.005     23.690      0.000       0.103       0.122\n",
      "=================================================================================\n"
     ]
    }
   ],
   "source": [
    "# Using logistic regression to analyze if there is significant correlation between release_month and profit\n",
    "logit = sm.Logit(df['profit'], df['release_month'])\n",
    "result = logit.fit()\n",
    "print(result.summary())"
   ]
  },
  {
   "cell_type": "code",
   "execution_count": 31,
   "metadata": {
    "scrolled": true
   },
   "outputs": [
    {
     "name": "stdout",
     "output_type": "stream",
     "text": [
      "Optimization terminated successfully.\n",
      "         Current function value: 0.589238\n",
      "         Iterations 4\n",
      "                           Logit Regression Results                           \n",
      "==============================================================================\n",
      "Dep. Variable:                 profit   No. Observations:                 3855\n",
      "Model:                          Logit   Df Residuals:                     3854\n",
      "Method:                           MLE   Df Model:                            0\n",
      "Date:                Fri, 29 Jun 2018   Pseudo R-squ.:                0.005278\n",
      "Time:                        10:13:53   Log-Likelihood:                -2271.5\n",
      "converged:                       True   LL-Null:                       -2283.6\n",
      "                                        LLR p-value:                       nan\n",
      "==============================================================================\n",
      "                 coef    std err          z      P>|z|      [0.025      0.975]\n",
      "------------------------------------------------------------------------------\n",
      "runtime        0.0088      0.000     26.563      0.000       0.008       0.009\n",
      "==============================================================================\n"
     ]
    }
   ],
   "source": [
    "# Using logistic regression to analyze if there is significant correlation between runtime and profit\n",
    "logit = sm.Logit(df['profit'], df['runtime'])\n",
    "result2 = logit.fit()\n",
    "print(result2.summary())"
   ]
  },
  {
   "cell_type": "code",
   "execution_count": 32,
   "metadata": {},
   "outputs": [
    {
     "name": "stdout",
     "output_type": "stream",
     "text": [
      "Optimization terminated successfully.\n",
      "         Current function value: 0.610763\n",
      "         Iterations 2\n",
      "                           Logit Regression Results                           \n",
      "==============================================================================\n",
      "Dep. Variable:                 profit   No. Observations:                 3855\n",
      "Model:                          Logit   Df Residuals:                     3854\n",
      "Method:                           MLE   Df Model:                            0\n",
      "Date:                Fri, 29 Jun 2018   Pseudo R-squ.:                -0.03106\n",
      "Time:                        10:13:53   Log-Likelihood:                -2354.5\n",
      "converged:                       True   LL-Null:                       -2283.6\n",
      "                                        LLR p-value:                       nan\n",
      "==============================================================================\n",
      "                 coef    std err          z      P>|z|      [0.025      0.975]\n",
      "------------------------------------------------------------------------------\n",
      "budget      1.808e-08   9.01e-10     20.069      0.000    1.63e-08    1.98e-08\n",
      "==============================================================================\n"
     ]
    }
   ],
   "source": [
    "# Using logistic regression to analyze if there is significant correlation between budget and profit\n",
    "logit = sm.Logit(df['profit'], df['budget'])\n",
    "result3 = logit.fit()\n",
    "print(result3.summary())"
   ]
  },
  {
   "cell_type": "markdown",
   "metadata": {},
   "source": [
    "<a id='conclusions'></a>\n",
    "## Conclusions\n",
    "\n",
    ">**Objective** Again: Movie market is huge, along with more films were released over year, I would like to see which genres is the most common and also I would like to see if there are some factors could influence the profit. If I could have some insights those factors, then it might help them to make decision.\n",
    "\n",
    "* Limitations:\n",
    "    * There are 10866 film records, but only 3855 records have full infomation, there are lots of films didn't have budget and revenue data, so the data set is incompleted. During this analysis, I dropped the missing data.\n",
    "    * The data is not sufficient since it's only 1/3 of the whole data set. It might cause bias.\n",
    "* According to the exploration of IMDB data, interesting to find:\n",
    "    * The numbers of movies released increased along with year.\n",
    "    * The budget and revenue looks going up overtime, but the profitble films proportion looks going down, which means even though there are lots of films making a loss.\n",
    "    * The popularity and vote_average looks not big change overtime.\n",
    "    * The avg runtime looks going down a bit.\n",
    "   \n",
    "* Which genres are most popular from year to year?\n",
    "    * The top three common popular genre are Drama, Comedy and Thriller over year.\n",
    "* What kind of factors are correlated with movie profit(Means Return of investment)?\n",
    "    * Release_month have different distribution in profit films and nonprofit films, Amongst the profit films, the release year were more likely at the last month of each quarter.\n",
    "    * Release_month, Runtime and budget have significant correlation with profit, but R square are too low, so I need dig into that.\n",
    "    \n",
    "> *Follow-up* I will try to do more feature engineering for predicting the getting profit."
   ]
  }
 ],
 "metadata": {
  "kernelspec": {
   "display_name": "Python 3",
   "language": "python",
   "name": "python3"
  },
  "language_info": {
   "codemirror_mode": {
    "name": "ipython",
    "version": 3
   },
   "file_extension": ".py",
   "mimetype": "text/x-python",
   "name": "python",
   "nbconvert_exporter": "python",
   "pygments_lexer": "ipython3",
   "version": "3.6.3"
  }
 },
 "nbformat": 4,
 "nbformat_minor": 2
}
